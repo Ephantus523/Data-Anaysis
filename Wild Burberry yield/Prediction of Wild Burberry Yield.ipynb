{
 "cells": [
  {
   "cell_type": "code",
   "execution_count": 1,
   "id": "28cf3438",
   "metadata": {},
   "outputs": [],
   "source": [
    "import pandas as pd\n",
    "import numpy as np\n",
    "import seaborn as sns\n",
    "import matplotlib.pyplot as plt\n",
    "%matplotlib inline"
   ]
  },
  {
   "cell_type": "code",
   "execution_count": 2,
   "id": "e599f66f",
   "metadata": {},
   "outputs": [],
   "source": [
    "train = pd.read_csv('train.csv')\n",
    "test = pd.read_csv('test.csv')\n",
    "sample = pd.read_csv('sample_submission.csv')"
   ]
  },
  {
   "cell_type": "code",
   "execution_count": 3,
   "id": "45466ff1",
   "metadata": {},
   "outputs": [
    {
     "data": {
      "text/html": [
       "<div>\n",
       "<style scoped>\n",
       "    .dataframe tbody tr th:only-of-type {\n",
       "        vertical-align: middle;\n",
       "    }\n",
       "\n",
       "    .dataframe tbody tr th {\n",
       "        vertical-align: top;\n",
       "    }\n",
       "\n",
       "    .dataframe thead th {\n",
       "        text-align: right;\n",
       "    }\n",
       "</style>\n",
       "<table border=\"1\" class=\"dataframe\">\n",
       "  <thead>\n",
       "    <tr style=\"text-align: right;\">\n",
       "      <th></th>\n",
       "      <th>id</th>\n",
       "      <th>clonesize</th>\n",
       "      <th>honeybee</th>\n",
       "      <th>bumbles</th>\n",
       "      <th>andrena</th>\n",
       "      <th>osmia</th>\n",
       "      <th>MaxOfUpperTRange</th>\n",
       "      <th>MinOfUpperTRange</th>\n",
       "      <th>AverageOfUpperTRange</th>\n",
       "      <th>MaxOfLowerTRange</th>\n",
       "      <th>MinOfLowerTRange</th>\n",
       "      <th>AverageOfLowerTRange</th>\n",
       "      <th>RainingDays</th>\n",
       "      <th>AverageRainingDays</th>\n",
       "      <th>fruitset</th>\n",
       "      <th>fruitmass</th>\n",
       "      <th>seeds</th>\n",
       "      <th>yield</th>\n",
       "    </tr>\n",
       "  </thead>\n",
       "  <tbody>\n",
       "    <tr>\n",
       "      <th>0</th>\n",
       "      <td>0</td>\n",
       "      <td>25.0</td>\n",
       "      <td>0.50</td>\n",
       "      <td>0.25</td>\n",
       "      <td>0.75</td>\n",
       "      <td>0.50</td>\n",
       "      <td>69.7</td>\n",
       "      <td>42.1</td>\n",
       "      <td>58.2</td>\n",
       "      <td>50.2</td>\n",
       "      <td>24.3</td>\n",
       "      <td>41.2</td>\n",
       "      <td>24.0</td>\n",
       "      <td>0.39</td>\n",
       "      <td>0.425011</td>\n",
       "      <td>0.417545</td>\n",
       "      <td>32.460887</td>\n",
       "      <td>4476.81146</td>\n",
       "    </tr>\n",
       "    <tr>\n",
       "      <th>1</th>\n",
       "      <td>1</td>\n",
       "      <td>25.0</td>\n",
       "      <td>0.50</td>\n",
       "      <td>0.25</td>\n",
       "      <td>0.50</td>\n",
       "      <td>0.50</td>\n",
       "      <td>69.7</td>\n",
       "      <td>42.1</td>\n",
       "      <td>58.2</td>\n",
       "      <td>50.2</td>\n",
       "      <td>24.3</td>\n",
       "      <td>41.2</td>\n",
       "      <td>24.0</td>\n",
       "      <td>0.39</td>\n",
       "      <td>0.444908</td>\n",
       "      <td>0.422051</td>\n",
       "      <td>33.858317</td>\n",
       "      <td>5548.12201</td>\n",
       "    </tr>\n",
       "    <tr>\n",
       "      <th>2</th>\n",
       "      <td>2</td>\n",
       "      <td>12.5</td>\n",
       "      <td>0.25</td>\n",
       "      <td>0.25</td>\n",
       "      <td>0.63</td>\n",
       "      <td>0.63</td>\n",
       "      <td>86.0</td>\n",
       "      <td>52.0</td>\n",
       "      <td>71.9</td>\n",
       "      <td>62.0</td>\n",
       "      <td>30.0</td>\n",
       "      <td>50.8</td>\n",
       "      <td>24.0</td>\n",
       "      <td>0.39</td>\n",
       "      <td>0.552927</td>\n",
       "      <td>0.470853</td>\n",
       "      <td>38.341781</td>\n",
       "      <td>6869.77760</td>\n",
       "    </tr>\n",
       "    <tr>\n",
       "      <th>3</th>\n",
       "      <td>3</td>\n",
       "      <td>12.5</td>\n",
       "      <td>0.25</td>\n",
       "      <td>0.25</td>\n",
       "      <td>0.63</td>\n",
       "      <td>0.50</td>\n",
       "      <td>77.4</td>\n",
       "      <td>46.8</td>\n",
       "      <td>64.7</td>\n",
       "      <td>55.8</td>\n",
       "      <td>27.0</td>\n",
       "      <td>45.8</td>\n",
       "      <td>24.0</td>\n",
       "      <td>0.39</td>\n",
       "      <td>0.565976</td>\n",
       "      <td>0.478137</td>\n",
       "      <td>39.467561</td>\n",
       "      <td>6880.77590</td>\n",
       "    </tr>\n",
       "    <tr>\n",
       "      <th>4</th>\n",
       "      <td>4</td>\n",
       "      <td>25.0</td>\n",
       "      <td>0.50</td>\n",
       "      <td>0.25</td>\n",
       "      <td>0.63</td>\n",
       "      <td>0.63</td>\n",
       "      <td>77.4</td>\n",
       "      <td>46.8</td>\n",
       "      <td>64.7</td>\n",
       "      <td>55.8</td>\n",
       "      <td>27.0</td>\n",
       "      <td>45.8</td>\n",
       "      <td>24.0</td>\n",
       "      <td>0.39</td>\n",
       "      <td>0.579677</td>\n",
       "      <td>0.494165</td>\n",
       "      <td>40.484512</td>\n",
       "      <td>7479.93417</td>\n",
       "    </tr>\n",
       "  </tbody>\n",
       "</table>\n",
       "</div>"
      ],
      "text/plain": [
       "   id  clonesize  honeybee  bumbles  andrena  osmia  MaxOfUpperTRange  \\\n",
       "0   0       25.0      0.50     0.25     0.75   0.50              69.7   \n",
       "1   1       25.0      0.50     0.25     0.50   0.50              69.7   \n",
       "2   2       12.5      0.25     0.25     0.63   0.63              86.0   \n",
       "3   3       12.5      0.25     0.25     0.63   0.50              77.4   \n",
       "4   4       25.0      0.50     0.25     0.63   0.63              77.4   \n",
       "\n",
       "   MinOfUpperTRange  AverageOfUpperTRange  MaxOfLowerTRange  MinOfLowerTRange  \\\n",
       "0              42.1                  58.2              50.2              24.3   \n",
       "1              42.1                  58.2              50.2              24.3   \n",
       "2              52.0                  71.9              62.0              30.0   \n",
       "3              46.8                  64.7              55.8              27.0   \n",
       "4              46.8                  64.7              55.8              27.0   \n",
       "\n",
       "   AverageOfLowerTRange  RainingDays  AverageRainingDays  fruitset  fruitmass  \\\n",
       "0                  41.2         24.0                0.39  0.425011   0.417545   \n",
       "1                  41.2         24.0                0.39  0.444908   0.422051   \n",
       "2                  50.8         24.0                0.39  0.552927   0.470853   \n",
       "3                  45.8         24.0                0.39  0.565976   0.478137   \n",
       "4                  45.8         24.0                0.39  0.579677   0.494165   \n",
       "\n",
       "       seeds       yield  \n",
       "0  32.460887  4476.81146  \n",
       "1  33.858317  5548.12201  \n",
       "2  38.341781  6869.77760  \n",
       "3  39.467561  6880.77590  \n",
       "4  40.484512  7479.93417  "
      ]
     },
     "execution_count": 3,
     "metadata": {},
     "output_type": "execute_result"
    }
   ],
   "source": [
    "train.head()"
   ]
  },
  {
   "cell_type": "code",
   "execution_count": 4,
   "id": "4d2c9953",
   "metadata": {},
   "outputs": [
    {
     "name": "stdout",
     "output_type": "stream",
     "text": [
      "<class 'pandas.core.frame.DataFrame'>\n",
      "RangeIndex: 15289 entries, 0 to 15288\n",
      "Data columns (total 18 columns):\n",
      " #   Column                Non-Null Count  Dtype  \n",
      "---  ------                --------------  -----  \n",
      " 0   id                    15289 non-null  int64  \n",
      " 1   clonesize             15289 non-null  float64\n",
      " 2   honeybee              15289 non-null  float64\n",
      " 3   bumbles               15289 non-null  float64\n",
      " 4   andrena               15289 non-null  float64\n",
      " 5   osmia                 15289 non-null  float64\n",
      " 6   MaxOfUpperTRange      15289 non-null  float64\n",
      " 7   MinOfUpperTRange      15289 non-null  float64\n",
      " 8   AverageOfUpperTRange  15289 non-null  float64\n",
      " 9   MaxOfLowerTRange      15289 non-null  float64\n",
      " 10  MinOfLowerTRange      15289 non-null  float64\n",
      " 11  AverageOfLowerTRange  15289 non-null  float64\n",
      " 12  RainingDays           15289 non-null  float64\n",
      " 13  AverageRainingDays    15289 non-null  float64\n",
      " 14  fruitset              15289 non-null  float64\n",
      " 15  fruitmass             15289 non-null  float64\n",
      " 16  seeds                 15289 non-null  float64\n",
      " 17  yield                 15289 non-null  float64\n",
      "dtypes: float64(17), int64(1)\n",
      "memory usage: 2.1 MB\n"
     ]
    }
   ],
   "source": [
    "train.info()"
   ]
  },
  {
   "cell_type": "code",
   "execution_count": 5,
   "id": "5c6f69ff",
   "metadata": {},
   "outputs": [
    {
     "name": "stdout",
     "output_type": "stream",
     "text": [
      "<class 'pandas.core.frame.DataFrame'>\n",
      "RangeIndex: 10194 entries, 0 to 10193\n",
      "Data columns (total 17 columns):\n",
      " #   Column                Non-Null Count  Dtype  \n",
      "---  ------                --------------  -----  \n",
      " 0   id                    10194 non-null  int64  \n",
      " 1   clonesize             10194 non-null  float64\n",
      " 2   honeybee              10194 non-null  float64\n",
      " 3   bumbles               10194 non-null  float64\n",
      " 4   andrena               10194 non-null  float64\n",
      " 5   osmia                 10194 non-null  float64\n",
      " 6   MaxOfUpperTRange      10194 non-null  float64\n",
      " 7   MinOfUpperTRange      10194 non-null  float64\n",
      " 8   AverageOfUpperTRange  10194 non-null  float64\n",
      " 9   MaxOfLowerTRange      10194 non-null  float64\n",
      " 10  MinOfLowerTRange      10194 non-null  float64\n",
      " 11  AverageOfLowerTRange  10194 non-null  float64\n",
      " 12  RainingDays           10194 non-null  float64\n",
      " 13  AverageRainingDays    10194 non-null  float64\n",
      " 14  fruitset              10194 non-null  float64\n",
      " 15  fruitmass             10194 non-null  float64\n",
      " 16  seeds                 10194 non-null  float64\n",
      "dtypes: float64(16), int64(1)\n",
      "memory usage: 1.3 MB\n"
     ]
    }
   ],
   "source": [
    "test.info()"
   ]
  },
  {
   "cell_type": "code",
   "execution_count": 6,
   "id": "b2a60fde",
   "metadata": {},
   "outputs": [
    {
     "data": {
      "text/html": [
       "<div>\n",
       "<style scoped>\n",
       "    .dataframe tbody tr th:only-of-type {\n",
       "        vertical-align: middle;\n",
       "    }\n",
       "\n",
       "    .dataframe tbody tr th {\n",
       "        vertical-align: top;\n",
       "    }\n",
       "\n",
       "    .dataframe thead th {\n",
       "        text-align: right;\n",
       "    }\n",
       "</style>\n",
       "<table border=\"1\" class=\"dataframe\">\n",
       "  <thead>\n",
       "    <tr style=\"text-align: right;\">\n",
       "      <th></th>\n",
       "      <th>id</th>\n",
       "      <th>clonesize</th>\n",
       "      <th>honeybee</th>\n",
       "      <th>bumbles</th>\n",
       "      <th>andrena</th>\n",
       "      <th>osmia</th>\n",
       "      <th>MaxOfUpperTRange</th>\n",
       "      <th>MinOfUpperTRange</th>\n",
       "      <th>AverageOfUpperTRange</th>\n",
       "      <th>MaxOfLowerTRange</th>\n",
       "      <th>MinOfLowerTRange</th>\n",
       "      <th>AverageOfLowerTRange</th>\n",
       "      <th>RainingDays</th>\n",
       "      <th>AverageRainingDays</th>\n",
       "      <th>fruitset</th>\n",
       "      <th>fruitmass</th>\n",
       "      <th>seeds</th>\n",
       "      <th>yield</th>\n",
       "    </tr>\n",
       "  </thead>\n",
       "  <tbody>\n",
       "    <tr>\n",
       "      <th>count</th>\n",
       "      <td>15289.000000</td>\n",
       "      <td>15289.000000</td>\n",
       "      <td>15289.000000</td>\n",
       "      <td>15289.000000</td>\n",
       "      <td>15289.000000</td>\n",
       "      <td>15289.000000</td>\n",
       "      <td>15289.000000</td>\n",
       "      <td>15289.000000</td>\n",
       "      <td>15289.000000</td>\n",
       "      <td>15289.000000</td>\n",
       "      <td>15289.000000</td>\n",
       "      <td>15289.000000</td>\n",
       "      <td>15289.000000</td>\n",
       "      <td>15289.000000</td>\n",
       "      <td>15289.000000</td>\n",
       "      <td>15289.000000</td>\n",
       "      <td>15289.000000</td>\n",
       "      <td>15289.000000</td>\n",
       "    </tr>\n",
       "    <tr>\n",
       "      <th>mean</th>\n",
       "      <td>7644.000000</td>\n",
       "      <td>19.704690</td>\n",
       "      <td>0.389314</td>\n",
       "      <td>0.286768</td>\n",
       "      <td>0.492675</td>\n",
       "      <td>0.592355</td>\n",
       "      <td>82.169887</td>\n",
       "      <td>49.673281</td>\n",
       "      <td>68.656256</td>\n",
       "      <td>59.229538</td>\n",
       "      <td>28.660553</td>\n",
       "      <td>48.568500</td>\n",
       "      <td>18.660865</td>\n",
       "      <td>0.324176</td>\n",
       "      <td>0.502741</td>\n",
       "      <td>0.446553</td>\n",
       "      <td>36.164950</td>\n",
       "      <td>6025.193999</td>\n",
       "    </tr>\n",
       "    <tr>\n",
       "      <th>std</th>\n",
       "      <td>4413.698468</td>\n",
       "      <td>6.595211</td>\n",
       "      <td>0.361643</td>\n",
       "      <td>0.059917</td>\n",
       "      <td>0.148115</td>\n",
       "      <td>0.139489</td>\n",
       "      <td>9.146703</td>\n",
       "      <td>5.546405</td>\n",
       "      <td>7.641807</td>\n",
       "      <td>6.610640</td>\n",
       "      <td>3.195367</td>\n",
       "      <td>5.390545</td>\n",
       "      <td>11.657582</td>\n",
       "      <td>0.163905</td>\n",
       "      <td>0.074390</td>\n",
       "      <td>0.037035</td>\n",
       "      <td>4.031087</td>\n",
       "      <td>1337.056850</td>\n",
       "    </tr>\n",
       "    <tr>\n",
       "      <th>min</th>\n",
       "      <td>0.000000</td>\n",
       "      <td>10.000000</td>\n",
       "      <td>0.000000</td>\n",
       "      <td>0.000000</td>\n",
       "      <td>0.000000</td>\n",
       "      <td>0.000000</td>\n",
       "      <td>69.700000</td>\n",
       "      <td>39.000000</td>\n",
       "      <td>58.200000</td>\n",
       "      <td>50.200000</td>\n",
       "      <td>24.300000</td>\n",
       "      <td>41.200000</td>\n",
       "      <td>1.000000</td>\n",
       "      <td>0.060000</td>\n",
       "      <td>0.192732</td>\n",
       "      <td>0.311921</td>\n",
       "      <td>22.079199</td>\n",
       "      <td>1945.530610</td>\n",
       "    </tr>\n",
       "    <tr>\n",
       "      <th>25%</th>\n",
       "      <td>3822.000000</td>\n",
       "      <td>12.500000</td>\n",
       "      <td>0.250000</td>\n",
       "      <td>0.250000</td>\n",
       "      <td>0.380000</td>\n",
       "      <td>0.500000</td>\n",
       "      <td>77.400000</td>\n",
       "      <td>46.800000</td>\n",
       "      <td>64.700000</td>\n",
       "      <td>55.800000</td>\n",
       "      <td>27.000000</td>\n",
       "      <td>45.800000</td>\n",
       "      <td>16.000000</td>\n",
       "      <td>0.260000</td>\n",
       "      <td>0.458246</td>\n",
       "      <td>0.419216</td>\n",
       "      <td>33.232449</td>\n",
       "      <td>5128.163510</td>\n",
       "    </tr>\n",
       "    <tr>\n",
       "      <th>50%</th>\n",
       "      <td>7644.000000</td>\n",
       "      <td>25.000000</td>\n",
       "      <td>0.500000</td>\n",
       "      <td>0.250000</td>\n",
       "      <td>0.500000</td>\n",
       "      <td>0.630000</td>\n",
       "      <td>86.000000</td>\n",
       "      <td>52.000000</td>\n",
       "      <td>71.900000</td>\n",
       "      <td>62.000000</td>\n",
       "      <td>30.000000</td>\n",
       "      <td>50.800000</td>\n",
       "      <td>16.000000</td>\n",
       "      <td>0.260000</td>\n",
       "      <td>0.506600</td>\n",
       "      <td>0.446570</td>\n",
       "      <td>36.040675</td>\n",
       "      <td>6117.475900</td>\n",
       "    </tr>\n",
       "    <tr>\n",
       "      <th>75%</th>\n",
       "      <td>11466.000000</td>\n",
       "      <td>25.000000</td>\n",
       "      <td>0.500000</td>\n",
       "      <td>0.380000</td>\n",
       "      <td>0.630000</td>\n",
       "      <td>0.750000</td>\n",
       "      <td>86.000000</td>\n",
       "      <td>52.000000</td>\n",
       "      <td>71.900000</td>\n",
       "      <td>62.000000</td>\n",
       "      <td>30.000000</td>\n",
       "      <td>50.800000</td>\n",
       "      <td>24.000000</td>\n",
       "      <td>0.390000</td>\n",
       "      <td>0.560445</td>\n",
       "      <td>0.474134</td>\n",
       "      <td>39.158238</td>\n",
       "      <td>7019.694380</td>\n",
       "    </tr>\n",
       "    <tr>\n",
       "      <th>max</th>\n",
       "      <td>15288.000000</td>\n",
       "      <td>40.000000</td>\n",
       "      <td>18.430000</td>\n",
       "      <td>0.585000</td>\n",
       "      <td>0.750000</td>\n",
       "      <td>0.750000</td>\n",
       "      <td>94.600000</td>\n",
       "      <td>57.200000</td>\n",
       "      <td>79.000000</td>\n",
       "      <td>68.200000</td>\n",
       "      <td>33.000000</td>\n",
       "      <td>55.900000</td>\n",
       "      <td>34.000000</td>\n",
       "      <td>0.560000</td>\n",
       "      <td>0.652144</td>\n",
       "      <td>0.535660</td>\n",
       "      <td>46.585105</td>\n",
       "      <td>8969.401840</td>\n",
       "    </tr>\n",
       "  </tbody>\n",
       "</table>\n",
       "</div>"
      ],
      "text/plain": [
       "                 id     clonesize      honeybee       bumbles       andrena  \\\n",
       "count  15289.000000  15289.000000  15289.000000  15289.000000  15289.000000   \n",
       "mean    7644.000000     19.704690      0.389314      0.286768      0.492675   \n",
       "std     4413.698468      6.595211      0.361643      0.059917      0.148115   \n",
       "min        0.000000     10.000000      0.000000      0.000000      0.000000   \n",
       "25%     3822.000000     12.500000      0.250000      0.250000      0.380000   \n",
       "50%     7644.000000     25.000000      0.500000      0.250000      0.500000   \n",
       "75%    11466.000000     25.000000      0.500000      0.380000      0.630000   \n",
       "max    15288.000000     40.000000     18.430000      0.585000      0.750000   \n",
       "\n",
       "              osmia  MaxOfUpperTRange  MinOfUpperTRange  AverageOfUpperTRange  \\\n",
       "count  15289.000000      15289.000000      15289.000000          15289.000000   \n",
       "mean       0.592355         82.169887         49.673281             68.656256   \n",
       "std        0.139489          9.146703          5.546405              7.641807   \n",
       "min        0.000000         69.700000         39.000000             58.200000   \n",
       "25%        0.500000         77.400000         46.800000             64.700000   \n",
       "50%        0.630000         86.000000         52.000000             71.900000   \n",
       "75%        0.750000         86.000000         52.000000             71.900000   \n",
       "max        0.750000         94.600000         57.200000             79.000000   \n",
       "\n",
       "       MaxOfLowerTRange  MinOfLowerTRange  AverageOfLowerTRange   RainingDays  \\\n",
       "count      15289.000000      15289.000000          15289.000000  15289.000000   \n",
       "mean          59.229538         28.660553             48.568500     18.660865   \n",
       "std            6.610640          3.195367              5.390545     11.657582   \n",
       "min           50.200000         24.300000             41.200000      1.000000   \n",
       "25%           55.800000         27.000000             45.800000     16.000000   \n",
       "50%           62.000000         30.000000             50.800000     16.000000   \n",
       "75%           62.000000         30.000000             50.800000     24.000000   \n",
       "max           68.200000         33.000000             55.900000     34.000000   \n",
       "\n",
       "       AverageRainingDays      fruitset     fruitmass         seeds  \\\n",
       "count        15289.000000  15289.000000  15289.000000  15289.000000   \n",
       "mean             0.324176      0.502741      0.446553     36.164950   \n",
       "std              0.163905      0.074390      0.037035      4.031087   \n",
       "min              0.060000      0.192732      0.311921     22.079199   \n",
       "25%              0.260000      0.458246      0.419216     33.232449   \n",
       "50%              0.260000      0.506600      0.446570     36.040675   \n",
       "75%              0.390000      0.560445      0.474134     39.158238   \n",
       "max              0.560000      0.652144      0.535660     46.585105   \n",
       "\n",
       "              yield  \n",
       "count  15289.000000  \n",
       "mean    6025.193999  \n",
       "std     1337.056850  \n",
       "min     1945.530610  \n",
       "25%     5128.163510  \n",
       "50%     6117.475900  \n",
       "75%     7019.694380  \n",
       "max     8969.401840  "
      ]
     },
     "execution_count": 6,
     "metadata": {},
     "output_type": "execute_result"
    }
   ],
   "source": [
    "train.describe()"
   ]
  },
  {
   "cell_type": "markdown",
   "id": "bc32a165",
   "metadata": {},
   "source": [
    "## Visualization of the null objects in the training and test dataset"
   ]
  },
  {
   "cell_type": "code",
   "execution_count": 7,
   "id": "8662d7db",
   "metadata": {},
   "outputs": [
    {
     "data": {
      "text/plain": [
       "<AxesSubplot: >"
      ]
     },
     "execution_count": 7,
     "metadata": {},
     "output_type": "execute_result"
    },
    {
     "data": {
      "image/png": "[encoded data removed]",
      "text/plain": [
       "<Figure size 640x480 with 1 Axes>"
      ]
     },
     "metadata": {},
     "output_type": "display_data"
    }
   ],
   "source": [
    "sns.heatmap(train.isnull(),yticklabels=False, cbar= False)"
   ]
  },
  {
   "cell_type": "code",
   "execution_count": 8,
   "id": "ccedab04",
   "metadata": {},
   "outputs": [
    {
     "data": {
      "text/plain": [
       "<AxesSubplot: >"
      ]
     },
     "execution_count": 8,
     "metadata": {},
     "output_type": "execute_result"
    },
    {
     "data": {
      "image/png": "[encoded data removed]",
      "text/plain": [
       "<Figure size 640x480 with 1 Axes>"
      ]
     },
     "metadata": {},
     "output_type": "display_data"
    }
   ],
   "source": [
    "sns.heatmap(test.isnull(),yticklabels=False, cbar= False)"
   ]
  },
  {
   "cell_type": "markdown",
   "id": "1229be61",
   "metadata": {},
   "source": [
    "The heatmap of the null values shows that there are no null values in the training dataset"
   ]
  },
  {
   "cell_type": "markdown",
   "id": "591643c7",
   "metadata": {},
   "source": [
    "## The splitting of the training and testing dataset"
   ]
  },
  {
   "cell_type": "code",
   "execution_count": 9,
   "id": "cd696d3e",
   "metadata": {},
   "outputs": [],
   "source": [
    "X_train = train.drop(['id','yield'], axis=1)\n",
    "X_test = test.drop('id',axis=1)\n",
    "y_train = train['yield']"
   ]
  },
  {
   "cell_type": "markdown",
   "id": "d367baf3",
   "metadata": {},
   "source": [
    "## Linear Regression Model Formulation"
   ]
  },
  {
   "cell_type": "code",
   "execution_count": 10,
   "id": "3e61e3c2",
   "metadata": {},
   "outputs": [],
   "source": [
    "from sklearn.linear_model import LinearRegression"
   ]
  },
  {
   "cell_type": "code",
   "execution_count": 11,
   "id": "0cd8210a",
   "metadata": {},
   "outputs": [
    {
     "data": {
      "text/html": [
       "<style>#sk-container-id-1 {color: black;background-color: white;}#sk-container-id-1 pre{padding: 0;}#sk-container-id-1 div.sk-toggleable {background-color: white;}#sk-container-id-1 label.sk-toggleable__label {cursor: pointer;display: block;width: 100%;margin-bottom: 0;padding: 0.3em;box-sizing: border-box;text-align: center;}#sk-container-id-1 label.sk-toggleable__label-arrow:before {content: \"▸\";float: left;margin-right: 0.25em;color: #696969;}#sk-container-id-1 label.sk-toggleable__label-arrow:hover:before {color: black;}#sk-container-id-1 div.sk-estimator:hover label.sk-toggleable__label-arrow:before {color: black;}#sk-container-id-1 div.sk-toggleable__content {max-height: 0;max-width: 0;overflow: hidden;text-align: left;background-color: #f0f8ff;}#sk-container-id-1 div.sk-toggleable__content pre {margin: 0.2em;color: black;border-radius: 0.25em;background-color: #f0f8ff;}#sk-container-id-1 input.sk-toggleable__control:checked~div.sk-toggleable__content {max-height: 200px;max-width: 100%;overflow: auto;}#sk-container-id-1 input.sk-toggleable__control:checked~label.sk-toggleable__label-arrow:before {content: \"▾\";}#sk-container-id-1 div.sk-estimator input.sk-toggleable__control:checked~label.sk-toggleable__label {background-color: #d4ebff;}#sk-container-id-1 div.sk-label input.sk-toggleable__control:checked~label.sk-toggleable__label {background-color: #d4ebff;}#sk-container-id-1 input.sk-hidden--visually {border: 0;clip: rect(1px 1px 1px 1px);clip: rect(1px, 1px, 1px, 1px);height: 1px;margin: -1px;overflow: hidden;padding: 0;position: absolute;width: 1px;}#sk-container-id-1 div.sk-estimator {font-family: monospace;background-color: #f0f8ff;border: 1px dotted black;border-radius: 0.25em;box-sizing: border-box;margin-bottom: 0.5em;}#sk-container-id-1 div.sk-estimator:hover {background-color: #d4ebff;}#sk-container-id-1 div.sk-parallel-item::after {content: \"\";width: 100%;border-bottom: 1px solid gray;flex-grow: 1;}#sk-container-id-1 div.sk-label:hover label.sk-toggleable__label {background-color: #d4ebff;}#sk-container-id-1 div.sk-serial::before {content: \"\";position: absolute;border-left: 1px solid gray;box-sizing: border-box;top: 0;bottom: 0;left: 50%;z-index: 0;}#sk-container-id-1 div.sk-serial {display: flex;flex-direction: column;align-items: center;background-color: white;padding-right: 0.2em;padding-left: 0.2em;position: relative;}#sk-container-id-1 div.sk-item {position: relative;z-index: 1;}#sk-container-id-1 div.sk-parallel {display: flex;align-items: stretch;justify-content: center;background-color: white;position: relative;}#sk-container-id-1 div.sk-item::before, #sk-container-id-1 div.sk-parallel-item::before {content: \"\";position: absolute;border-left: 1px solid gray;box-sizing: border-box;top: 0;bottom: 0;left: 50%;z-index: -1;}#sk-container-id-1 div.sk-parallel-item {display: flex;flex-direction: column;z-index: 1;position: relative;background-color: white;}#sk-container-id-1 div.sk-parallel-item:first-child::after {align-self: flex-end;width: 50%;}#sk-container-id-1 div.sk-parallel-item:last-child::after {align-self: flex-start;width: 50%;}#sk-container-id-1 div.sk-parallel-item:only-child::after {width: 0;}#sk-container-id-1 div.sk-dashed-wrapped {border: 1px dashed gray;margin: 0 0.4em 0.5em 0.4em;box-sizing: border-box;padding-bottom: 0.4em;background-color: white;}#sk-container-id-1 div.sk-label label {font-family: monospace;font-weight: bold;display: inline-block;line-height: 1.2em;}#sk-container-id-1 div.sk-label-container {text-align: center;}#sk-container-id-1 div.sk-container {/* jupyter's `normalize.less` sets `[hidden] { display: none; }` but bootstrap.min.css set `[hidden] { display: none !important; }` so we also need the `!important` here to be able to override the default hidden behavior on the sphinx rendered scikit-learn.org. See: https://github.com/scikit-learn/scikit-learn/issues/21755 */display: inline-block !important;position: relative;}#sk-container-id-1 div.sk-text-repr-fallback {display: none;}</style><div id=\"sk-container-id-1\" class=\"sk-top-container\"><div class=\"sk-text-repr-fallback\"><pre>LinearRegression()</pre><b>In a Jupyter environment, please rerun this cell to show the HTML representation or trust the notebook. <br />On GitHub, the HTML representation is unable to render, please try loading this page with nbviewer.org.</b></div><div class=\"sk-container\" hidden><div class=\"sk-item\"><div class=\"sk-estimator sk-toggleable\"><input class=\"sk-toggleable__control sk-hidden--visually\" id=\"sk-estimator-id-1\" type=\"checkbox\" checked><label for=\"sk-estimator-id-1\" class=\"sk-toggleable__label sk-toggleable__label-arrow\">LinearRegression</label><div class=\"sk-toggleable__content\"><pre>LinearRegression()</pre></div></div></div></div></div>"
      ],
      "text/plain": [
       "LinearRegression()"
      ]
     },
     "execution_count": 11,
     "metadata": {},
     "output_type": "execute_result"
    }
   ],
   "source": [
    "Lr = LinearRegression()\n",
    "Lr.fit(X_train,y_train)"
   ]
  },
  {
   "cell_type": "code",
   "execution_count": 12,
   "id": "3abec269",
   "metadata": {},
   "outputs": [],
   "source": [
    "predictions = pd.DataFrame(Lr.predict(X_test), columns = ['Predicted'])\n",
    "Berry_Id = pd.DataFrame(test['id'], columns = ['id'])\n",
    "LR_Model_predictions = pd.concat([Berry_Id,predictions],axis=1)"
   ]
  },
  {
   "cell_type": "code",
   "execution_count": 13,
   "id": "098e2250",
   "metadata": {},
   "outputs": [
    {
     "data": {
      "text/plain": [
       "81.0092852838389"
      ]
     },
     "execution_count": 13,
     "metadata": {},
     "output_type": "execute_result"
    }
   ],
   "source": [
    "#Accuracy of the Linear Regression model\n",
    "LR_Accuracy = Lr.score(X_train,y_train)*100\n",
    "LR_Accuracy"
   ]
  },
  {
   "cell_type": "markdown",
   "id": "0dc513c9",
   "metadata": {},
   "source": [
    "## Random Forest model"
   ]
  },
  {
   "cell_type": "code",
   "execution_count": 14,
   "id": "05f4e297",
   "metadata": {},
   "outputs": [],
   "source": [
    "from sklearn.ensemble import RandomForestRegressor"
   ]
  },
  {
   "cell_type": "code",
   "execution_count": 15,
   "id": "82c83f5c",
   "metadata": {},
   "outputs": [
    {
     "data": {
      "text/html": [
       "<style>#sk-container-id-2 {color: black;background-color: white;}#sk-container-id-2 pre{padding: 0;}#sk-container-id-2 div.sk-toggleable {background-color: white;}#sk-container-id-2 label.sk-toggleable__label {cursor: pointer;display: block;width: 100%;margin-bottom: 0;padding: 0.3em;box-sizing: border-box;text-align: center;}#sk-container-id-2 label.sk-toggleable__label-arrow:before {content: \"▸\";float: left;margin-right: 0.25em;color: #696969;}#sk-container-id-2 label.sk-toggleable__label-arrow:hover:before {color: black;}#sk-container-id-2 div.sk-estimator:hover label.sk-toggleable__label-arrow:before {color: black;}#sk-container-id-2 div.sk-toggleable__content {max-height: 0;max-width: 0;overflow: hidden;text-align: left;background-color: #f0f8ff;}#sk-container-id-2 div.sk-toggleable__content pre {margin: 0.2em;color: black;border-radius: 0.25em;background-color: #f0f8ff;}#sk-container-id-2 input.sk-toggleable__control:checked~div.sk-toggleable__content {max-height: 200px;max-width: 100%;overflow: auto;}#sk-container-id-2 input.sk-toggleable__control:checked~label.sk-toggleable__label-arrow:before {content: \"▾\";}#sk-container-id-2 div.sk-estimator input.sk-toggleable__control:checked~label.sk-toggleable__label {background-color: #d4ebff;}#sk-container-id-2 div.sk-label input.sk-toggleable__control:checked~label.sk-toggleable__label {background-color: #d4ebff;}#sk-container-id-2 input.sk-hidden--visually {border: 0;clip: rect(1px 1px 1px 1px);clip: rect(1px, 1px, 1px, 1px);height: 1px;margin: -1px;overflow: hidden;padding: 0;position: absolute;width: 1px;}#sk-container-id-2 div.sk-estimator {font-family: monospace;background-color: #f0f8ff;border: 1px dotted black;border-radius: 0.25em;box-sizing: border-box;margin-bottom: 0.5em;}#sk-container-id-2 div.sk-estimator:hover {background-color: #d4ebff;}#sk-container-id-2 div.sk-parallel-item::after {content: \"\";width: 100%;border-bottom: 1px solid gray;flex-grow: 1;}#sk-container-id-2 div.sk-label:hover label.sk-toggleable__label {background-color: #d4ebff;}#sk-container-id-2 div.sk-serial::before {content: \"\";position: absolute;border-left: 1px solid gray;box-sizing: border-box;top: 0;bottom: 0;left: 50%;z-index: 0;}#sk-container-id-2 div.sk-serial {display: flex;flex-direction: column;align-items: center;background-color: white;padding-right: 0.2em;padding-left: 0.2em;position: relative;}#sk-container-id-2 div.sk-item {position: relative;z-index: 1;}#sk-container-id-2 div.sk-parallel {display: flex;align-items: stretch;justify-content: center;background-color: white;position: relative;}#sk-container-id-2 div.sk-item::before, #sk-container-id-2 div.sk-parallel-item::before {content: \"\";position: absolute;border-left: 1px solid gray;box-sizing: border-box;top: 0;bottom: 0;left: 50%;z-index: -1;}#sk-container-id-2 div.sk-parallel-item {display: flex;flex-direction: column;z-index: 1;position: relative;background-color: white;}#sk-container-id-2 div.sk-parallel-item:first-child::after {align-self: flex-end;width: 50%;}#sk-container-id-2 div.sk-parallel-item:last-child::after {align-self: flex-start;width: 50%;}#sk-container-id-2 div.sk-parallel-item:only-child::after {width: 0;}#sk-container-id-2 div.sk-dashed-wrapped {border: 1px dashed gray;margin: 0 0.4em 0.5em 0.4em;box-sizing: border-box;padding-bottom: 0.4em;background-color: white;}#sk-container-id-2 div.sk-label label {font-family: monospace;font-weight: bold;display: inline-block;line-height: 1.2em;}#sk-container-id-2 div.sk-label-container {text-align: center;}#sk-container-id-2 div.sk-container {/* jupyter's `normalize.less` sets `[hidden] { display: none; }` but bootstrap.min.css set `[hidden] { display: none !important; }` so we also need the `!important` here to be able to override the default hidden behavior on the sphinx rendered scikit-learn.org. See: https://github.com/scikit-learn/scikit-learn/issues/21755 */display: inline-block !important;position: relative;}#sk-container-id-2 div.sk-text-repr-fallback {display: none;}</style><div id=\"sk-container-id-2\" class=\"sk-top-container\"><div class=\"sk-text-repr-fallback\"><pre>RandomForestRegressor()</pre><b>In a Jupyter environment, please rerun this cell to show the HTML representation or trust the notebook. <br />On GitHub, the HTML representation is unable to render, please try loading this page with nbviewer.org.</b></div><div class=\"sk-container\" hidden><div class=\"sk-item\"><div class=\"sk-estimator sk-toggleable\"><input class=\"sk-toggleable__control sk-hidden--visually\" id=\"sk-estimator-id-2\" type=\"checkbox\" checked><label for=\"sk-estimator-id-2\" class=\"sk-toggleable__label sk-toggleable__label-arrow\">RandomForestRegressor</label><div class=\"sk-toggleable__content\"><pre>RandomForestRegressor()</pre></div></div></div></div></div>"
      ],
      "text/plain": [
       "RandomForestRegressor()"
      ]
     },
     "execution_count": 15,
     "metadata": {},
     "output_type": "execute_result"
    }
   ],
   "source": [
    "RFR = RandomForestRegressor()\n",
    "RFR.fit(X_train,y_train)"
   ]
  },
  {
   "cell_type": "code",
   "execution_count": 16,
   "id": "c95c2ca2",
   "metadata": {},
   "outputs": [],
   "source": [
    "predictions1 = pd.DataFrame(RFR.predict(X_test),columns = ['Predicted'])\n",
    "RFR_model_predictions = pd.concat([Berry_Id,predictions1],axis=1)"
   ]
  },
  {
   "cell_type": "code",
   "execution_count": 17,
   "id": "cd831a92",
   "metadata": {},
   "outputs": [
    {
     "data": {
      "text/plain": [
       "97.32336260872387"
      ]
     },
     "execution_count": 17,
     "metadata": {},
     "output_type": "execute_result"
    }
   ],
   "source": [
    "#Accuracy of the Random Forest Regressor Model\n",
    "RFR_Accuracy = RFR.score(X_train,y_train)*100\n",
    "RFR_Accuracy"
   ]
  },
  {
   "cell_type": "markdown",
   "id": "4ebfb78f",
   "metadata": {},
   "source": [
    "## Decision Tree Regressor model"
   ]
  },
  {
   "cell_type": "code",
   "execution_count": 18,
   "id": "6e49c193",
   "metadata": {},
   "outputs": [],
   "source": [
    "from sklearn.tree import DecisionTreeRegressor"
   ]
  },
  {
   "cell_type": "code",
   "execution_count": 19,
   "id": "8107b227",
   "metadata": {},
   "outputs": [
    {
     "data": {
      "text/html": [
       "<style>#sk-container-id-3 {color: black;background-color: white;}#sk-container-id-3 pre{padding: 0;}#sk-container-id-3 div.sk-toggleable {background-color: white;}#sk-container-id-3 label.sk-toggleable__label {cursor: pointer;display: block;width: 100%;margin-bottom: 0;padding: 0.3em;box-sizing: border-box;text-align: center;}#sk-container-id-3 label.sk-toggleable__label-arrow:before {content: \"▸\";float: left;margin-right: 0.25em;color: #696969;}#sk-container-id-3 label.sk-toggleable__label-arrow:hover:before {color: black;}#sk-container-id-3 div.sk-estimator:hover label.sk-toggleable__label-arrow:before {color: black;}#sk-container-id-3 div.sk-toggleable__content {max-height: 0;max-width: 0;overflow: hidden;text-align: left;background-color: #f0f8ff;}#sk-container-id-3 div.sk-toggleable__content pre {margin: 0.2em;color: black;border-radius: 0.25em;background-color: #f0f8ff;}#sk-container-id-3 input.sk-toggleable__control:checked~div.sk-toggleable__content {max-height: 200px;max-width: 100%;overflow: auto;}#sk-container-id-3 input.sk-toggleable__control:checked~label.sk-toggleable__label-arrow:before {content: \"▾\";}#sk-container-id-3 div.sk-estimator input.sk-toggleable__control:checked~label.sk-toggleable__label {background-color: #d4ebff;}#sk-container-id-3 div.sk-label input.sk-toggleable__control:checked~label.sk-toggleable__label {background-color: #d4ebff;}#sk-container-id-3 input.sk-hidden--visually {border: 0;clip: rect(1px 1px 1px 1px);clip: rect(1px, 1px, 1px, 1px);height: 1px;margin: -1px;overflow: hidden;padding: 0;position: absolute;width: 1px;}#sk-container-id-3 div.sk-estimator {font-family: monospace;background-color: #f0f8ff;border: 1px dotted black;border-radius: 0.25em;box-sizing: border-box;margin-bottom: 0.5em;}#sk-container-id-3 div.sk-estimator:hover {background-color: #d4ebff;}#sk-container-id-3 div.sk-parallel-item::after {content: \"\";width: 100%;border-bottom: 1px solid gray;flex-grow: 1;}#sk-container-id-3 div.sk-label:hover label.sk-toggleable__label {background-color: #d4ebff;}#sk-container-id-3 div.sk-serial::before {content: \"\";position: absolute;border-left: 1px solid gray;box-sizing: border-box;top: 0;bottom: 0;left: 50%;z-index: 0;}#sk-container-id-3 div.sk-serial {display: flex;flex-direction: column;align-items: center;background-color: white;padding-right: 0.2em;padding-left: 0.2em;position: relative;}#sk-container-id-3 div.sk-item {position: relative;z-index: 1;}#sk-container-id-3 div.sk-parallel {display: flex;align-items: stretch;justify-content: center;background-color: white;position: relative;}#sk-container-id-3 div.sk-item::before, #sk-container-id-3 div.sk-parallel-item::before {content: \"\";position: absolute;border-left: 1px solid gray;box-sizing: border-box;top: 0;bottom: 0;left: 50%;z-index: -1;}#sk-container-id-3 div.sk-parallel-item {display: flex;flex-direction: column;z-index: 1;position: relative;background-color: white;}#sk-container-id-3 div.sk-parallel-item:first-child::after {align-self: flex-end;width: 50%;}#sk-container-id-3 div.sk-parallel-item:last-child::after {align-self: flex-start;width: 50%;}#sk-container-id-3 div.sk-parallel-item:only-child::after {width: 0;}#sk-container-id-3 div.sk-dashed-wrapped {border: 1px dashed gray;margin: 0 0.4em 0.5em 0.4em;box-sizing: border-box;padding-bottom: 0.4em;background-color: white;}#sk-container-id-3 div.sk-label label {font-family: monospace;font-weight: bold;display: inline-block;line-height: 1.2em;}#sk-container-id-3 div.sk-label-container {text-align: center;}#sk-container-id-3 div.sk-container {/* jupyter's `normalize.less` sets `[hidden] { display: none; }` but bootstrap.min.css set `[hidden] { display: none !important; }` so we also need the `!important` here to be able to override the default hidden behavior on the sphinx rendered scikit-learn.org. See: https://github.com/scikit-learn/scikit-learn/issues/21755 */display: inline-block !important;position: relative;}#sk-container-id-3 div.sk-text-repr-fallback {display: none;}</style><div id=\"sk-container-id-3\" class=\"sk-top-container\"><div class=\"sk-text-repr-fallback\"><pre>DecisionTreeRegressor()</pre><b>In a Jupyter environment, please rerun this cell to show the HTML representation or trust the notebook. <br />On GitHub, the HTML representation is unable to render, please try loading this page with nbviewer.org.</b></div><div class=\"sk-container\" hidden><div class=\"sk-item\"><div class=\"sk-estimator sk-toggleable\"><input class=\"sk-toggleable__control sk-hidden--visually\" id=\"sk-estimator-id-3\" type=\"checkbox\" checked><label for=\"sk-estimator-id-3\" class=\"sk-toggleable__label sk-toggleable__label-arrow\">DecisionTreeRegressor</label><div class=\"sk-toggleable__content\"><pre>DecisionTreeRegressor()</pre></div></div></div></div></div>"
      ],
      "text/plain": [
       "DecisionTreeRegressor()"
      ]
     },
     "execution_count": 19,
     "metadata": {},
     "output_type": "execute_result"
    }
   ],
   "source": [
    "DTR_model = DecisionTreeRegressor()\n",
    "DTR_model.fit(X_train,y_train)"
   ]
  },
  {
   "cell_type": "code",
   "execution_count": 20,
   "id": "86ed0ba7",
   "metadata": {},
   "outputs": [],
   "source": [
    "predictions2 = pd.DataFrame(DTR_model.predict(X_test),columns = ['Predicted'])\n",
    "DTR_model_predictions = pd.concat([Berry_Id,predictions2],axis=1)"
   ]
  },
  {
   "cell_type": "code",
   "execution_count": 21,
   "id": "0b20fc86",
   "metadata": {},
   "outputs": [
    {
     "data": {
      "text/plain": [
       "99.99894240781072"
      ]
     },
     "execution_count": 21,
     "metadata": {},
     "output_type": "execute_result"
    }
   ],
   "source": [
    "#Accuracy of the Decision Tree Regressor Model\n",
    "DTR_Accuracy = DTR_model.score(X_train,y_train)*100\n",
    "DTR_Accuracy"
   ]
  },
  {
   "cell_type": "markdown",
   "id": "9da64240",
   "metadata": {},
   "source": [
    "## Sample Submission"
   ]
  },
  {
   "cell_type": "code",
   "execution_count": 22,
   "id": "875f0c9a",
   "metadata": {},
   "outputs": [],
   "source": [
    "DTR_model_predictions.to_csv('Wild Burberry Yield.csv', index=False)"
   ]
  }
 ],
 "metadata": {
  "kernelspec": {
   "display_name": "Python 3 (ipykernel)",
   "language": "python",
   "name": "python3"
  },
  "language_info": {
   "codemirror_mode": {
    "name": "ipython",
    "version": 3
   },
   "file_extension": ".py",
   "mimetype": "text/x-python",
   "name": "python",
   "nbconvert_exporter": "python",
   "pygments_lexer": "ipython3",
   "version": "3.11.2"
  }
 },
 "nbformat": 4,
 "nbformat_minor": 5
}
